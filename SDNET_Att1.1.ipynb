{
 "cells": [
  {
   "cell_type": "code",
   "execution_count": 1,
   "id": "0bd3420d",
   "metadata": {},
   "outputs": [],
   "source": [
    "import tensorflow as tf\n",
    "from keras.preprocessing.image import ImageDataGenerator"
   ]
  },
  {
   "cell_type": "code",
   "execution_count": 2,
   "id": "3024beb7",
   "metadata": {},
   "outputs": [
    {
     "name": "stdout",
     "output_type": "stream",
     "text": [
      "Found 14509 images belonging to 2 classes.\n"
     ]
    }
   ],
   "source": [
    "train_datagen = ImageDataGenerator(rescale = 1./255,\n",
    "                                   shear_range = 0.2,\n",
    "                                   zoom_range = 0.2,\n",
    "                                   horizontal_flip = True)\n",
    "training_set = train_datagen.flow_from_directory('D:/DS/SDNET/Walls/training_set',\n",
    "                                                 target_size = (64, 64),\n",
    "                                                 batch_size = 32,\n",
    "                                                 class_mode = 'binary')"
   ]
  },
  {
   "cell_type": "code",
   "execution_count": 3,
   "id": "c0b86571",
   "metadata": {},
   "outputs": [
    {
     "name": "stdout",
     "output_type": "stream",
     "text": [
      "Found 3627 images belonging to 2 classes.\n"
     ]
    }
   ],
   "source": [
    "test_datagen = ImageDataGenerator(rescale = 1./255)\n",
    "test_set = test_datagen.flow_from_directory('D:/DS/SDNET/Walls/test_set',\n",
    "                                            target_size = (64, 64),\n",
    "                                            batch_size = 32,\n",
    "                                            class_mode = 'binary')"
   ]
  },
  {
   "cell_type": "markdown",
   "id": "d0ea6331",
   "metadata": {},
   "source": [
    "### Build 1.0"
   ]
  },
  {
   "cell_type": "code",
   "execution_count": 4,
   "id": "41ffdff1",
   "metadata": {},
   "outputs": [],
   "source": [
    "model  = tf.keras.models.Sequential()"
   ]
  },
  {
   "cell_type": "code",
   "execution_count": 5,
   "id": "f3dc0d06",
   "metadata": {},
   "outputs": [],
   "source": [
    "##Layer 1\n",
    "model.add(tf.keras.layers.Conv2D(filters = 32, kernel_size = 3, activation = 'relu', input_shape = [64,64,3]))\n",
    "model.add(tf.keras.layers.MaxPool2D(pool_size = 2, strides = 2))"
   ]
  },
  {
   "cell_type": "code",
   "execution_count": 6,
   "id": "385103c1",
   "metadata": {},
   "outputs": [],
   "source": [
    "##Layer 2\n",
    "model.add(tf.keras.layers.Conv2D(filters = 32, kernel_size = 3, activation = 'relu'))\n",
    "model.add(tf.keras.layers.MaxPool2D(pool_size = 2, strides = 2))"
   ]
  },
  {
   "cell_type": "code",
   "execution_count": 7,
   "id": "0b8880fb",
   "metadata": {},
   "outputs": [],
   "source": [
    "model.add(tf.keras.layers.Flatten())"
   ]
  },
  {
   "cell_type": "code",
   "execution_count": 8,
   "id": "f33fcc09",
   "metadata": {},
   "outputs": [],
   "source": [
    "model.add(tf.keras.layers.Dense(units=128, activation='relu'))"
   ]
  },
  {
   "cell_type": "code",
   "execution_count": 9,
   "id": "1d07d692",
   "metadata": {},
   "outputs": [],
   "source": [
    "model.add(tf.keras.layers.Dense(units = 1, activation='sigmoid'))"
   ]
  },
  {
   "cell_type": "code",
   "execution_count": 10,
   "id": "79c098bb",
   "metadata": {},
   "outputs": [],
   "source": [
    "model.compile(optimizer = 'adam', loss = 'binary_crossentropy', metrics=['accuracy'])"
   ]
  },
  {
   "cell_type": "code",
   "execution_count": 11,
   "id": "77c524f2",
   "metadata": {},
   "outputs": [
    {
     "name": "stdout",
     "output_type": "stream",
     "text": [
      "Model: \"sequential\"\n",
      "_________________________________________________________________\n",
      " Layer (type)                Output Shape              Param #   \n",
      "=================================================================\n",
      " conv2d (Conv2D)             (None, 62, 62, 32)        896       \n",
      "                                                                 \n",
      " max_pooling2d (MaxPooling2D  (None, 31, 31, 32)       0         \n",
      " )                                                               \n",
      "                                                                 \n",
      " conv2d_1 (Conv2D)           (None, 29, 29, 32)        9248      \n",
      "                                                                 \n",
      " max_pooling2d_1 (MaxPooling  (None, 14, 14, 32)       0         \n",
      " 2D)                                                             \n",
      "                                                                 \n",
      " flatten (Flatten)           (None, 6272)              0         \n",
      "                                                                 \n",
      " dense (Dense)               (None, 128)               802944    \n",
      "                                                                 \n",
      " dense_1 (Dense)             (None, 1)                 129       \n",
      "                                                                 \n",
      "=================================================================\n",
      "Total params: 813,217\n",
      "Trainable params: 813,217\n",
      "Non-trainable params: 0\n",
      "_________________________________________________________________\n"
     ]
    }
   ],
   "source": [
    "model.summary()"
   ]
  },
  {
   "cell_type": "code",
   "execution_count": 18,
   "id": "b22f5734",
   "metadata": {},
   "outputs": [
    {
     "name": "stdout",
     "output_type": "stream",
     "text": [
      "Epoch 1/50\n",
      "454/454 [==============================] - 41s 85ms/step - loss: 0.5325 - accuracy: 0.7865 - val_loss: 0.5274 - val_accuracy: 0.7877\n",
      "Epoch 2/50\n",
      "454/454 [==============================] - 38s 83ms/step - loss: 0.5219 - accuracy: 0.7877 - val_loss: 0.5254 - val_accuracy: 0.7877\n",
      "Epoch 3/50\n",
      "454/454 [==============================] - 35s 78ms/step - loss: 0.5187 - accuracy: 0.7877 - val_loss: 0.5184 - val_accuracy: 0.7877\n",
      "Epoch 4/50\n",
      "454/454 [==============================] - 35s 78ms/step - loss: 0.5185 - accuracy: 0.7877 - val_loss: 0.5186 - val_accuracy: 0.7877\n",
      "Epoch 5/50\n",
      "454/454 [==============================] - 38s 84ms/step - loss: 0.5186 - accuracy: 0.7877 - val_loss: 0.5194 - val_accuracy: 0.7877\n",
      "Epoch 6/50\n",
      "454/454 [==============================] - 36s 80ms/step - loss: 0.5179 - accuracy: 0.7877 - val_loss: 0.5191 - val_accuracy: 0.7877\n",
      "Epoch 7/50\n",
      "454/454 [==============================] - 36s 80ms/step - loss: 0.5180 - accuracy: 0.7877 - val_loss: 0.5174 - val_accuracy: 0.7877\n",
      "Epoch 8/50\n",
      "454/454 [==============================] - 37s 81ms/step - loss: 0.5183 - accuracy: 0.7877 - val_loss: 0.5171 - val_accuracy: 0.7877\n",
      "Epoch 9/50\n",
      "454/454 [==============================] - 37s 81ms/step - loss: 0.5176 - accuracy: 0.7877 - val_loss: 0.5175 - val_accuracy: 0.7877\n",
      "Epoch 10/50\n",
      "454/454 [==============================] - 37s 81ms/step - loss: 0.5178 - accuracy: 0.7877 - val_loss: 0.5194 - val_accuracy: 0.7877\n",
      "Epoch 11/50\n",
      "454/454 [==============================] - 37s 81ms/step - loss: 0.5178 - accuracy: 0.7877 - val_loss: 0.5171 - val_accuracy: 0.7877\n",
      "Epoch 12/50\n",
      "454/454 [==============================] - 37s 81ms/step - loss: 0.5181 - accuracy: 0.7877 - val_loss: 0.5171 - val_accuracy: 0.7877\n",
      "Epoch 13/50\n",
      "454/454 [==============================] - 37s 81ms/step - loss: 0.5177 - accuracy: 0.7877 - val_loss: 0.5176 - val_accuracy: 0.7877\n",
      "Epoch 14/50\n",
      "454/454 [==============================] - 37s 81ms/step - loss: 0.5179 - accuracy: 0.7877 - val_loss: 0.5180 - val_accuracy: 0.7877\n",
      "Epoch 15/50\n",
      "454/454 [==============================] - 38s 84ms/step - loss: 0.5178 - accuracy: 0.7877 - val_loss: 0.5179 - val_accuracy: 0.7877\n",
      "Epoch 16/50\n",
      "454/454 [==============================] - 37s 81ms/step - loss: 0.5182 - accuracy: 0.7877 - val_loss: 0.5179 - val_accuracy: 0.7877\n",
      "Epoch 17/50\n",
      "454/454 [==============================] - 39s 86ms/step - loss: 0.5182 - accuracy: 0.7877 - val_loss: 0.5187 - val_accuracy: 0.7877\n",
      "Epoch 18/50\n",
      "454/454 [==============================] - 36s 79ms/step - loss: 0.5177 - accuracy: 0.7877 - val_loss: 0.5176 - val_accuracy: 0.7877\n",
      "Epoch 19/50\n",
      "454/454 [==============================] - 36s 80ms/step - loss: 0.5151 - accuracy: 0.7883 - val_loss: 0.4766 - val_accuracy: 0.8023\n",
      "Epoch 20/50\n",
      "454/454 [==============================] - 36s 79ms/step - loss: 0.5090 - accuracy: 0.7920 - val_loss: 0.4512 - val_accuracy: 0.8315\n",
      "Epoch 21/50\n",
      "454/454 [==============================] - 40s 88ms/step - loss: 0.5069 - accuracy: 0.7928 - val_loss: 0.4700 - val_accuracy: 0.8147\n",
      "Epoch 22/50\n",
      "454/454 [==============================] - 37s 81ms/step - loss: 0.5050 - accuracy: 0.7936 - val_loss: 0.4476 - val_accuracy: 0.8255\n",
      "Epoch 23/50\n",
      "454/454 [==============================] - 39s 85ms/step - loss: 0.5052 - accuracy: 0.7937 - val_loss: 0.4639 - val_accuracy: 0.8197\n",
      "Epoch 24/50\n",
      "454/454 [==============================] - 37s 81ms/step - loss: 0.5019 - accuracy: 0.7960 - val_loss: 0.4444 - val_accuracy: 0.8340\n",
      "Epoch 25/50\n",
      "454/454 [==============================] - 39s 85ms/step - loss: 0.4998 - accuracy: 0.7968 - val_loss: 0.4383 - val_accuracy: 0.8376\n",
      "Epoch 26/50\n",
      "454/454 [==============================] - 37s 81ms/step - loss: 0.4948 - accuracy: 0.7992 - val_loss: 0.4269 - val_accuracy: 0.8371\n",
      "Epoch 27/50\n",
      "454/454 [==============================] - 39s 86ms/step - loss: 0.4967 - accuracy: 0.7995 - val_loss: 0.4402 - val_accuracy: 0.8326\n",
      "Epoch 28/50\n",
      "454/454 [==============================] - 38s 83ms/step - loss: 0.4944 - accuracy: 0.7996 - val_loss: 0.4265 - val_accuracy: 0.8360\n",
      "Epoch 29/50\n",
      "454/454 [==============================] - 40s 89ms/step - loss: 0.4876 - accuracy: 0.8040 - val_loss: 0.4314 - val_accuracy: 0.8315\n",
      "Epoch 30/50\n",
      "454/454 [==============================] - 38s 83ms/step - loss: 0.4887 - accuracy: 0.8027 - val_loss: 0.4372 - val_accuracy: 0.8357\n",
      "Epoch 31/50\n",
      "454/454 [==============================] - 37s 82ms/step - loss: 0.4868 - accuracy: 0.8029 - val_loss: 0.4270 - val_accuracy: 0.8329\n",
      "Epoch 32/50\n",
      "454/454 [==============================] - 37s 82ms/step - loss: 0.4768 - accuracy: 0.8056 - val_loss: 0.4331 - val_accuracy: 0.8337\n",
      "Epoch 33/50\n",
      "454/454 [==============================] - 37s 82ms/step - loss: 0.4755 - accuracy: 0.8056 - val_loss: 0.4555 - val_accuracy: 0.8282\n",
      "Epoch 34/50\n",
      "454/454 [==============================] - 37s 82ms/step - loss: 0.4757 - accuracy: 0.8055 - val_loss: 0.4482 - val_accuracy: 0.8365\n",
      "Epoch 35/50\n",
      "454/454 [==============================] - 39s 86ms/step - loss: 0.4738 - accuracy: 0.8047 - val_loss: 0.4214 - val_accuracy: 0.8420\n",
      "Epoch 36/50\n",
      "454/454 [==============================] - 38s 85ms/step - loss: 0.4687 - accuracy: 0.8061 - val_loss: 0.4157 - val_accuracy: 0.8428\n",
      "Epoch 37/50\n",
      "454/454 [==============================] - 39s 85ms/step - loss: 0.4639 - accuracy: 0.8072 - val_loss: 0.4144 - val_accuracy: 0.8431\n",
      "Epoch 38/50\n",
      "454/454 [==============================] - 37s 82ms/step - loss: 0.4591 - accuracy: 0.8090 - val_loss: 0.4262 - val_accuracy: 0.8437\n",
      "Epoch 39/50\n",
      "454/454 [==============================] - 42s 93ms/step - loss: 0.4556 - accuracy: 0.8120 - val_loss: 0.4481 - val_accuracy: 0.8337\n",
      "Epoch 40/50\n",
      "454/454 [==============================] - 38s 85ms/step - loss: 0.4518 - accuracy: 0.8111 - val_loss: 0.4053 - val_accuracy: 0.8448\n",
      "Epoch 41/50\n",
      "454/454 [==============================] - 37s 81ms/step - loss: 0.4555 - accuracy: 0.8100 - val_loss: 0.4235 - val_accuracy: 0.8415\n",
      "Epoch 42/50\n",
      "454/454 [==============================] - 37s 82ms/step - loss: 0.4441 - accuracy: 0.8124 - val_loss: 0.3941 - val_accuracy: 0.8500\n",
      "Epoch 43/50\n",
      "454/454 [==============================] - 41s 89ms/step - loss: 0.4434 - accuracy: 0.8157 - val_loss: 0.4058 - val_accuracy: 0.8489\n",
      "Epoch 44/50\n",
      "454/454 [==============================] - 39s 86ms/step - loss: 0.4384 - accuracy: 0.8133 - val_loss: 0.4017 - val_accuracy: 0.8489\n",
      "Epoch 45/50\n",
      "454/454 [==============================] - 43s 95ms/step - loss: 0.4432 - accuracy: 0.8157 - val_loss: 0.4019 - val_accuracy: 0.8497\n",
      "Epoch 46/50\n",
      "454/454 [==============================] - 38s 83ms/step - loss: 0.4409 - accuracy: 0.8154 - val_loss: 0.4186 - val_accuracy: 0.8431\n",
      "Epoch 47/50\n",
      "454/454 [==============================] - 45s 98ms/step - loss: 0.4358 - accuracy: 0.8164 - val_loss: 0.4050 - val_accuracy: 0.8473\n",
      "Epoch 48/50\n",
      "454/454 [==============================] - 41s 89ms/step - loss: 0.4377 - accuracy: 0.8160 - val_loss: 0.4033 - val_accuracy: 0.8486\n",
      "Epoch 49/50\n",
      "454/454 [==============================] - 41s 90ms/step - loss: 0.4354 - accuracy: 0.8169 - val_loss: 0.4136 - val_accuracy: 0.8484\n",
      "Epoch 50/50\n",
      "454/454 [==============================] - 41s 91ms/step - loss: 0.4259 - accuracy: 0.8204 - val_loss: 0.4112 - val_accuracy: 0.8481\n"
     ]
    },
    {
     "data": {
      "text/plain": [
       "<keras.callbacks.History at 0x1cd54ebd420>"
      ]
     },
     "execution_count": 18,
     "metadata": {},
     "output_type": "execute_result"
    }
   ],
   "source": [
    "model.fit(x = training_set, validation_data = test_set, epochs = 50)"
   ]
  },
  {
   "cell_type": "code",
   "execution_count": 19,
   "id": "83db1294",
   "metadata": {},
   "outputs": [
    {
     "name": "stdout",
     "output_type": "stream",
     "text": [
      "{'Cracked': 0, 'Non-cracked': 1}\n"
     ]
    }
   ],
   "source": [
    "print(test_set.class_indices)"
   ]
  },
  {
   "cell_type": "markdown",
   "id": "382524da",
   "metadata": {},
   "source": [
    "### Model 1 Prediction trials"
   ]
  },
  {
   "cell_type": "code",
   "execution_count": 21,
   "id": "99be46bc",
   "metadata": {},
   "outputs": [
    {
     "name": "stdout",
     "output_type": "stream",
     "text": [
      "1/1 [==============================] - 0s 136ms/step\n"
     ]
    }
   ],
   "source": [
    "import numpy as np\n",
    "from keras.preprocessing import image\n",
    "test_img = tf.keras.utils.load_img('D:/DS/SDNET/Walls/pred/Cracked.jpg',\n",
    "                         target_size = (64,64))\n",
    "test_img = tf.keras.preprocessing.image.img_to_array(test_img)\n",
    "test_img = np.expand_dims(test_img, axis = 0)\n",
    "result = model.predict(test_img)"
   ]
  },
  {
   "cell_type": "code",
   "execution_count": 22,
   "id": "53ecf4d7",
   "metadata": {},
   "outputs": [
    {
     "data": {
      "text/plain": [
       "array([[0.9999992]], dtype=float32)"
      ]
     },
     "execution_count": 22,
     "metadata": {},
     "output_type": "execute_result"
    }
   ],
   "source": [
    "result"
   ]
  },
  {
   "cell_type": "code",
   "execution_count": 23,
   "id": "94a61db4",
   "metadata": {},
   "outputs": [
    {
     "name": "stdout",
     "output_type": "stream",
     "text": [
      "1/1 [==============================] - 0s 16ms/step\n",
      "[[1.]]\n"
     ]
    }
   ],
   "source": [
    "test_img = tf.keras.utils.load_img('D:/DS/SDNET/Walls/pred/Non-Cracked.jpg',\n",
    "                         target_size = (64,64))\n",
    "test_img = tf.keras.preprocessing.image.img_to_array(test_img)\n",
    "test_img = np.expand_dims(test_img, axis = 0)\n",
    "result = model.predict(test_img)\n",
    "print(result)"
   ]
  },
  {
   "cell_type": "code",
   "execution_count": 24,
   "id": "c54621ef",
   "metadata": {},
   "outputs": [
    {
     "name": "stdout",
     "output_type": "stream",
     "text": [
      "114/114 [==============================] - 3s 24ms/step - loss: 0.4113 - accuracy: 0.8481\n"
     ]
    },
    {
     "data": {
      "text/plain": [
       "[0.41125017404556274, 0.8480837941169739]"
      ]
     },
     "execution_count": 24,
     "metadata": {},
     "output_type": "execute_result"
    }
   ],
   "source": [
    "model.evaluate(test_set)"
   ]
  },
  {
   "cell_type": "code",
   "execution_count": 26,
   "id": "1abd7c08",
   "metadata": {},
   "outputs": [
    {
     "data": {
      "text/plain": [
       "['loss', 'accuracy']"
      ]
     },
     "execution_count": 26,
     "metadata": {},
     "output_type": "execute_result"
    }
   ],
   "source": [
    "model.metrics_names"
   ]
  },
  {
   "cell_type": "markdown",
   "id": "836127f1",
   "metadata": {},
   "source": [
    "### Build 1.1"
   ]
  },
  {
   "cell_type": "code",
   "execution_count": 4,
   "id": "24562c7a",
   "metadata": {},
   "outputs": [],
   "source": [
    "model = tf.keras.models.Sequential()"
   ]
  },
  {
   "cell_type": "code",
   "execution_count": 5,
   "id": "a2311675",
   "metadata": {},
   "outputs": [],
   "source": [
    "## Layer 1\n",
    "model.add(tf.keras.layers.Conv2D(filters = 32, kernel_size = 3, activation = 'relu', input_shape = [64,64,3]))\n",
    "model.add(tf.keras.layers.MaxPool2D(pool_size = 2, strides = 2))"
   ]
  },
  {
   "cell_type": "code",
   "execution_count": 7,
   "id": "a80a4d23",
   "metadata": {},
   "outputs": [],
   "source": [
    "## Layer 2\n",
    "model.add(tf.keras.layers.Conv2D(filters = 16, kernel_size = 3, activation = 'relu'))\n",
    "model.add(tf.keras.layers.MaxPool2D(pool_size = 2, strides = 2))"
   ]
  },
  {
   "cell_type": "code",
   "execution_count": 8,
   "id": "4c843fa1",
   "metadata": {},
   "outputs": [],
   "source": [
    "## Layer 3\n",
    "model.add(tf.keras.layers.Conv2D(filters = 8, kernel_size = 3, activation = 'relu'))\n",
    "model.add(tf.keras.layers.MaxPool2D(pool_size = 2, strides = 2))"
   ]
  },
  {
   "cell_type": "code",
   "execution_count": 9,
   "id": "c8a9d3b4",
   "metadata": {},
   "outputs": [],
   "source": [
    "model.add(tf.keras.layers.Flatten())"
   ]
  },
  {
   "cell_type": "code",
   "execution_count": 10,
   "id": "1f3e484d",
   "metadata": {},
   "outputs": [],
   "source": [
    "model.add(tf.keras.layers.Dense(units=128, activation='relu'))"
   ]
  },
  {
   "cell_type": "code",
   "execution_count": 11,
   "id": "448c9689",
   "metadata": {},
   "outputs": [],
   "source": [
    "model.add(tf.keras.layers.Dense(units = 1, activation='softmax'))"
   ]
  },
  {
   "cell_type": "code",
   "execution_count": 12,
   "id": "85ecb14c",
   "metadata": {},
   "outputs": [],
   "source": [
    "model.compile(optimizer = 'adam', loss = 'binary_crossentropy', metrics=['accuracy'])"
   ]
  },
  {
   "cell_type": "code",
   "execution_count": 13,
   "id": "3934a993",
   "metadata": {},
   "outputs": [
    {
     "name": "stdout",
     "output_type": "stream",
     "text": [
      "Epoch 1/100\n",
      "454/454 [==============================] - 131s 287ms/step - loss: 0.5290 - accuracy: 0.7877 - val_loss: 0.5231 - val_accuracy: 0.7877\n",
      "Epoch 2/100\n",
      "454/454 [==============================] - 35s 77ms/step - loss: 0.5218 - accuracy: 0.7877 - val_loss: 0.5216 - val_accuracy: 0.7877\n",
      "Epoch 3/100\n",
      "454/454 [==============================] - 37s 82ms/step - loss: 0.5177 - accuracy: 0.7877 - val_loss: 0.5203 - val_accuracy: 0.7877\n",
      "Epoch 4/100\n",
      "454/454 [==============================] - 35s 76ms/step - loss: 0.5183 - accuracy: 0.7877 - val_loss: 0.5178 - val_accuracy: 0.7877\n",
      "Epoch 5/100\n",
      "454/454 [==============================] - 35s 76ms/step - loss: 0.5180 - accuracy: 0.7877 - val_loss: 0.5173 - val_accuracy: 0.7877\n",
      "Epoch 6/100\n",
      "454/454 [==============================] - 35s 76ms/step - loss: 0.5179 - accuracy: 0.7877 - val_loss: 0.5174 - val_accuracy: 0.7877\n",
      "Epoch 7/100\n",
      "454/454 [==============================] - 34s 76ms/step - loss: 0.5178 - accuracy: 0.7877 - val_loss: 0.5172 - val_accuracy: 0.7877\n",
      "Epoch 8/100\n",
      "454/454 [==============================] - 35s 76ms/step - loss: 0.5174 - accuracy: 0.7877 - val_loss: 0.5192 - val_accuracy: 0.7877\n",
      "Epoch 9/100\n",
      "454/454 [==============================] - 35s 76ms/step - loss: 0.5179 - accuracy: 0.7877 - val_loss: 0.5176 - val_accuracy: 0.7877\n",
      "Epoch 10/100\n",
      "454/454 [==============================] - 37s 82ms/step - loss: 0.5177 - accuracy: 0.7877 - val_loss: 0.5172 - val_accuracy: 0.7877\n",
      "Epoch 11/100\n",
      "454/454 [==============================] - 35s 77ms/step - loss: 0.5176 - accuracy: 0.7877 - val_loss: 0.5172 - val_accuracy: 0.7877\n",
      "Epoch 12/100\n",
      "454/454 [==============================] - 35s 78ms/step - loss: 0.5174 - accuracy: 0.7877 - val_loss: 0.5172 - val_accuracy: 0.7877\n",
      "Epoch 13/100\n",
      "454/454 [==============================] - 35s 78ms/step - loss: 0.5175 - accuracy: 0.7877 - val_loss: 0.5170 - val_accuracy: 0.7877\n",
      "Epoch 14/100\n",
      "454/454 [==============================] - 35s 78ms/step - loss: 0.5173 - accuracy: 0.7877 - val_loss: 0.5168 - val_accuracy: 0.7877\n",
      "Epoch 15/100\n",
      "454/454 [==============================] - 35s 78ms/step - loss: 0.5161 - accuracy: 0.7877 - val_loss: 0.5220 - val_accuracy: 0.7877\n",
      "Epoch 16/100\n",
      "454/454 [==============================] - 35s 78ms/step - loss: 0.5172 - accuracy: 0.7877 - val_loss: 0.5181 - val_accuracy: 0.7877\n",
      "Epoch 17/100\n",
      "454/454 [==============================] - 35s 78ms/step - loss: 0.5170 - accuracy: 0.7877 - val_loss: 0.5181 - val_accuracy: 0.7877\n",
      "Epoch 18/100\n",
      "454/454 [==============================] - 35s 78ms/step - loss: 0.5173 - accuracy: 0.7877 - val_loss: 0.5175 - val_accuracy: 0.7877\n",
      "Epoch 19/100\n",
      "454/454 [==============================] - 35s 78ms/step - loss: 0.5174 - accuracy: 0.7877 - val_loss: 0.5170 - val_accuracy: 0.7877\n",
      "Epoch 20/100\n",
      "454/454 [==============================] - 35s 78ms/step - loss: 0.5172 - accuracy: 0.7877 - val_loss: 0.5172 - val_accuracy: 0.7877\n",
      "Epoch 21/100\n",
      "454/454 [==============================] - 35s 78ms/step - loss: 0.5173 - accuracy: 0.7877 - val_loss: 0.5169 - val_accuracy: 0.7877\n",
      "Epoch 22/100\n",
      "454/454 [==============================] - 36s 80ms/step - loss: 0.5172 - accuracy: 0.7877 - val_loss: 0.5170 - val_accuracy: 0.7877\n",
      "Epoch 23/100\n",
      "454/454 [==============================] - 38s 82ms/step - loss: 0.5174 - accuracy: 0.7877 - val_loss: 0.5170 - val_accuracy: 0.7877\n",
      "Epoch 24/100\n",
      "454/454 [==============================] - 35s 78ms/step - loss: 0.5172 - accuracy: 0.7877 - val_loss: 0.5169 - val_accuracy: 0.7877\n",
      "Epoch 25/100\n",
      "454/454 [==============================] - 35s 78ms/step - loss: 0.5173 - accuracy: 0.7877 - val_loss: 0.5169 - val_accuracy: 0.7877\n",
      "Epoch 26/100\n",
      "454/454 [==============================] - 35s 78ms/step - loss: 0.5172 - accuracy: 0.7877 - val_loss: 0.5169 - val_accuracy: 0.7877\n",
      "Epoch 27/100\n",
      "454/454 [==============================] - 35s 78ms/step - loss: 0.5171 - accuracy: 0.7877 - val_loss: 0.5170 - val_accuracy: 0.7877\n",
      "Epoch 28/100\n",
      "454/454 [==============================] - 35s 78ms/step - loss: 0.5172 - accuracy: 0.7877 - val_loss: 0.5169 - val_accuracy: 0.7877\n",
      "Epoch 29/100\n",
      "454/454 [==============================] - 35s 78ms/step - loss: 0.5172 - accuracy: 0.7877 - val_loss: 0.5169 - val_accuracy: 0.7877\n",
      "Epoch 30/100\n",
      "454/454 [==============================] - 35s 78ms/step - loss: 0.5171 - accuracy: 0.7877 - val_loss: 0.5170 - val_accuracy: 0.7877\n",
      "Epoch 31/100\n",
      "454/454 [==============================] - 36s 78ms/step - loss: 0.5173 - accuracy: 0.7877 - val_loss: 0.5170 - val_accuracy: 0.7877\n",
      "Epoch 32/100\n",
      "454/454 [==============================] - 35s 78ms/step - loss: 0.5173 - accuracy: 0.7877 - val_loss: 0.5169 - val_accuracy: 0.7877\n",
      "Epoch 33/100\n",
      "454/454 [==============================] - 36s 78ms/step - loss: 0.5172 - accuracy: 0.7877 - val_loss: 0.5168 - val_accuracy: 0.7877\n",
      "Epoch 34/100\n",
      "454/454 [==============================] - 36s 79ms/step - loss: 0.5174 - accuracy: 0.7877 - val_loss: 0.5169 - val_accuracy: 0.7877\n",
      "Epoch 35/100\n",
      "454/454 [==============================] - 36s 79ms/step - loss: 0.5172 - accuracy: 0.7877 - val_loss: 0.5169 - val_accuracy: 0.7877\n",
      "Epoch 36/100\n",
      "454/454 [==============================] - 36s 78ms/step - loss: 0.5172 - accuracy: 0.7877 - val_loss: 0.5181 - val_accuracy: 0.7877\n",
      "Epoch 37/100\n",
      "454/454 [==============================] - 36s 78ms/step - loss: 0.5172 - accuracy: 0.7877 - val_loss: 0.5170 - val_accuracy: 0.7877\n",
      "Epoch 38/100\n",
      "454/454 [==============================] - 36s 79ms/step - loss: 0.5171 - accuracy: 0.7877 - val_loss: 0.5181 - val_accuracy: 0.7877\n",
      "Epoch 39/100\n",
      "454/454 [==============================] - 36s 79ms/step - loss: 0.5173 - accuracy: 0.7877 - val_loss: 0.5172 - val_accuracy: 0.7877\n",
      "Epoch 40/100\n",
      "454/454 [==============================] - 36s 79ms/step - loss: 0.5172 - accuracy: 0.7877 - val_loss: 0.5170 - val_accuracy: 0.7877\n",
      "Epoch 41/100\n",
      "454/454 [==============================] - 36s 79ms/step - loss: 0.5171 - accuracy: 0.7877 - val_loss: 0.5176 - val_accuracy: 0.7877\n",
      "Epoch 42/100\n",
      "454/454 [==============================] - 36s 78ms/step - loss: 0.5172 - accuracy: 0.7877 - val_loss: 0.5169 - val_accuracy: 0.7877\n",
      "Epoch 43/100\n",
      "454/454 [==============================] - 36s 79ms/step - loss: 0.5172 - accuracy: 0.7877 - val_loss: 0.5167 - val_accuracy: 0.7877\n",
      "Epoch 44/100\n",
      "454/454 [==============================] - 36s 78ms/step - loss: 0.5172 - accuracy: 0.7877 - val_loss: 0.5171 - val_accuracy: 0.7877\n",
      "Epoch 45/100\n",
      "454/454 [==============================] - 36s 78ms/step - loss: 0.5172 - accuracy: 0.7877 - val_loss: 0.5169 - val_accuracy: 0.7877\n",
      "Epoch 46/100\n",
      "454/454 [==============================] - 36s 79ms/step - loss: 0.5172 - accuracy: 0.7877 - val_loss: 0.5173 - val_accuracy: 0.7877\n",
      "Epoch 47/100\n",
      "454/454 [==============================] - 36s 79ms/step - loss: 0.5171 - accuracy: 0.7877 - val_loss: 0.5170 - val_accuracy: 0.7877\n",
      "Epoch 48/100\n",
      "454/454 [==============================] - 36s 78ms/step - loss: 0.5169 - accuracy: 0.7877 - val_loss: 0.5169 - val_accuracy: 0.7877\n",
      "Epoch 49/100\n",
      "454/454 [==============================] - 37s 82ms/step - loss: 0.5172 - accuracy: 0.7877 - val_loss: 0.5167 - val_accuracy: 0.7877\n",
      "Epoch 50/100\n",
      "454/454 [==============================] - 36s 78ms/step - loss: 0.5172 - accuracy: 0.7877 - val_loss: 0.5184 - val_accuracy: 0.7877\n",
      "Epoch 51/100\n",
      "454/454 [==============================] - 36s 78ms/step - loss: 0.5170 - accuracy: 0.7877 - val_loss: 0.5169 - val_accuracy: 0.7877\n",
      "Epoch 52/100\n",
      "454/454 [==============================] - 36s 79ms/step - loss: 0.5172 - accuracy: 0.7877 - val_loss: 0.5170 - val_accuracy: 0.7877\n",
      "Epoch 53/100\n",
      "454/454 [==============================] - 36s 78ms/step - loss: 0.5171 - accuracy: 0.7877 - val_loss: 0.5173 - val_accuracy: 0.7877\n",
      "Epoch 54/100\n",
      "454/454 [==============================] - 38s 83ms/step - loss: 0.5172 - accuracy: 0.7877 - val_loss: 0.5169 - val_accuracy: 0.7877\n",
      "Epoch 55/100\n",
      "454/454 [==============================] - 36s 78ms/step - loss: 0.5173 - accuracy: 0.7877 - val_loss: 0.5168 - val_accuracy: 0.7877\n",
      "Epoch 56/100\n",
      "454/454 [==============================] - 36s 79ms/step - loss: 0.5172 - accuracy: 0.7877 - val_loss: 0.5168 - val_accuracy: 0.7877\n",
      "Epoch 57/100\n",
      "454/454 [==============================] - 35s 77ms/step - loss: 0.5171 - accuracy: 0.7877 - val_loss: 0.5166 - val_accuracy: 0.7877\n",
      "Epoch 58/100\n",
      "454/454 [==============================] - 35s 77ms/step - loss: 0.5172 - accuracy: 0.7877 - val_loss: 0.5168 - val_accuracy: 0.7877\n",
      "Epoch 59/100\n",
      "454/454 [==============================] - 35s 78ms/step - loss: 0.5171 - accuracy: 0.7877 - val_loss: 0.5172 - val_accuracy: 0.7877\n",
      "Epoch 60/100\n",
      "454/454 [==============================] - 36s 78ms/step - loss: 0.5172 - accuracy: 0.7877 - val_loss: 0.5168 - val_accuracy: 0.7877\n",
      "Epoch 61/100\n",
      "454/454 [==============================] - 37s 82ms/step - loss: 0.5173 - accuracy: 0.7877 - val_loss: 0.5166 - val_accuracy: 0.7877\n",
      "Epoch 62/100\n",
      "454/454 [==============================] - 35s 78ms/step - loss: 0.5175 - accuracy: 0.7877 - val_loss: 0.5167 - val_accuracy: 0.7877\n",
      "Epoch 63/100\n",
      "454/454 [==============================] - 35s 78ms/step - loss: 0.5172 - accuracy: 0.7877 - val_loss: 0.5165 - val_accuracy: 0.7877\n",
      "Epoch 64/100\n",
      "454/454 [==============================] - 36s 79ms/step - loss: 0.5172 - accuracy: 0.7877 - val_loss: 0.5167 - val_accuracy: 0.7877\n",
      "Epoch 65/100\n",
      "454/454 [==============================] - 39s 86ms/step - loss: 0.5172 - accuracy: 0.7877 - val_loss: 0.5169 - val_accuracy: 0.7877\n",
      "Epoch 66/100\n",
      "454/454 [==============================] - 37s 81ms/step - loss: 0.5172 - accuracy: 0.7877 - val_loss: 0.5166 - val_accuracy: 0.7877\n",
      "Epoch 67/100\n",
      "454/454 [==============================] - 37s 81ms/step - loss: 0.5171 - accuracy: 0.7877 - val_loss: 0.5166 - val_accuracy: 0.7877\n",
      "Epoch 68/100\n",
      "454/454 [==============================] - 36s 78ms/step - loss: 0.5170 - accuracy: 0.7877 - val_loss: 0.5173 - val_accuracy: 0.7877\n",
      "Epoch 69/100\n",
      "454/454 [==============================] - 36s 78ms/step - loss: 0.5172 - accuracy: 0.7877 - val_loss: 0.5169 - val_accuracy: 0.7877\n",
      "Epoch 70/100\n",
      "454/454 [==============================] - 35s 78ms/step - loss: 0.5174 - accuracy: 0.7877 - val_loss: 0.5168 - val_accuracy: 0.7877\n",
      "Epoch 71/100\n",
      "454/454 [==============================] - 36s 78ms/step - loss: 0.5171 - accuracy: 0.7877 - val_loss: 0.5169 - val_accuracy: 0.7877\n",
      "Epoch 72/100\n",
      "454/454 [==============================] - 36s 79ms/step - loss: 0.5171 - accuracy: 0.7877 - val_loss: 0.5168 - val_accuracy: 0.7877\n",
      "Epoch 73/100\n",
      "454/454 [==============================] - 36s 78ms/step - loss: 0.5172 - accuracy: 0.7877 - val_loss: 0.5168 - val_accuracy: 0.7877\n",
      "Epoch 74/100\n",
      "454/454 [==============================] - 36s 78ms/step - loss: 0.5171 - accuracy: 0.7877 - val_loss: 0.5168 - val_accuracy: 0.7877\n",
      "Epoch 75/100\n",
      "454/454 [==============================] - 35s 78ms/step - loss: 0.5172 - accuracy: 0.7877 - val_loss: 0.5168 - val_accuracy: 0.7877\n",
      "Epoch 76/100\n",
      "454/454 [==============================] - 36s 78ms/step - loss: 0.5172 - accuracy: 0.7877 - val_loss: 0.5170 - val_accuracy: 0.7877\n",
      "Epoch 77/100\n",
      "454/454 [==============================] - 35s 78ms/step - loss: 0.5171 - accuracy: 0.7877 - val_loss: 0.5168 - val_accuracy: 0.7877\n",
      "Epoch 78/100\n",
      "454/454 [==============================] - 37s 82ms/step - loss: 0.5171 - accuracy: 0.7877 - val_loss: 0.5168 - val_accuracy: 0.7877\n",
      "Epoch 79/100\n",
      "454/454 [==============================] - 37s 81ms/step - loss: 0.5172 - accuracy: 0.7877 - val_loss: 0.5168 - val_accuracy: 0.7877\n",
      "Epoch 80/100\n",
      "454/454 [==============================] - 35s 77ms/step - loss: 0.5172 - accuracy: 0.7877 - val_loss: 0.5169 - val_accuracy: 0.7877\n",
      "Epoch 81/100\n",
      "454/454 [==============================] - 35s 77ms/step - loss: 0.5171 - accuracy: 0.7877 - val_loss: 0.5172 - val_accuracy: 0.7877\n",
      "Epoch 82/100\n",
      "454/454 [==============================] - 38s 83ms/step - loss: 0.5174 - accuracy: 0.7877 - val_loss: 0.5168 - val_accuracy: 0.7877\n",
      "Epoch 83/100\n",
      "454/454 [==============================] - 44s 96ms/step - loss: 0.5170 - accuracy: 0.7877 - val_loss: 0.5170 - val_accuracy: 0.7877\n",
      "Epoch 84/100\n",
      "454/454 [==============================] - 37s 81ms/step - loss: 0.5172 - accuracy: 0.7877 - val_loss: 0.5168 - val_accuracy: 0.7877\n",
      "Epoch 85/100\n",
      "454/454 [==============================] - 48s 105ms/step - loss: 0.5171 - accuracy: 0.7877 - val_loss: 0.5168 - val_accuracy: 0.7877\n",
      "Epoch 86/100\n",
      "454/454 [==============================] - 36s 78ms/step - loss: 0.5171 - accuracy: 0.7877 - val_loss: 0.5168 - val_accuracy: 0.7877\n",
      "Epoch 87/100\n",
      "454/454 [==============================] - 36s 79ms/step - loss: 0.5172 - accuracy: 0.7877 - val_loss: 0.5167 - val_accuracy: 0.7877\n",
      "Epoch 88/100\n",
      "454/454 [==============================] - 37s 82ms/step - loss: 0.5171 - accuracy: 0.7877 - val_loss: 0.5171 - val_accuracy: 0.7877\n",
      "Epoch 89/100\n",
      "454/454 [==============================] - 35s 76ms/step - loss: 0.5172 - accuracy: 0.7877 - val_loss: 0.5169 - val_accuracy: 0.7877\n",
      "Epoch 90/100\n",
      "454/454 [==============================] - 37s 81ms/step - loss: 0.5172 - accuracy: 0.7877 - val_loss: 0.5170 - val_accuracy: 0.7877\n",
      "Epoch 91/100\n",
      "454/454 [==============================] - 38s 84ms/step - loss: 0.5172 - accuracy: 0.7877 - val_loss: 0.5168 - val_accuracy: 0.7877\n",
      "Epoch 92/100\n",
      "454/454 [==============================] - 36s 79ms/step - loss: 0.5173 - accuracy: 0.7877 - val_loss: 0.5168 - val_accuracy: 0.7877\n",
      "Epoch 93/100\n",
      "454/454 [==============================] - 36s 79ms/step - loss: 0.5170 - accuracy: 0.7877 - val_loss: 0.5168 - val_accuracy: 0.7877\n",
      "Epoch 94/100\n",
      "454/454 [==============================] - 36s 79ms/step - loss: 0.5171 - accuracy: 0.7877 - val_loss: 0.5168 - val_accuracy: 0.7877\n",
      "Epoch 95/100\n",
      "454/454 [==============================] - 36s 79ms/step - loss: 0.5172 - accuracy: 0.7877 - val_loss: 0.5167 - val_accuracy: 0.7877\n",
      "Epoch 96/100\n",
      "454/454 [==============================] - 36s 79ms/step - loss: 0.5171 - accuracy: 0.7877 - val_loss: 0.5172 - val_accuracy: 0.7877\n",
      "Epoch 97/100\n",
      "454/454 [==============================] - 36s 79ms/step - loss: 0.5172 - accuracy: 0.7877 - val_loss: 0.5169 - val_accuracy: 0.7877\n",
      "Epoch 98/100\n",
      "454/454 [==============================] - 36s 79ms/step - loss: 0.5172 - accuracy: 0.7877 - val_loss: 0.5168 - val_accuracy: 0.7877\n",
      "Epoch 99/100\n",
      "454/454 [==============================] - 36s 80ms/step - loss: 0.5173 - accuracy: 0.7877 - val_loss: 0.5171 - val_accuracy: 0.7877\n",
      "Epoch 100/100\n",
      "454/454 [==============================] - 38s 83ms/step - loss: 0.5172 - accuracy: 0.7877 - val_loss: 0.5174 - val_accuracy: 0.7877\n"
     ]
    },
    {
     "data": {
      "text/plain": [
       "<keras.callbacks.History at 0x225414ae980>"
      ]
     },
     "execution_count": 13,
     "metadata": {},
     "output_type": "execute_result"
    }
   ],
   "source": [
    "model.fit(x = training_set, validation_data = test_set, epochs = 100)"
   ]
  },
  {
   "cell_type": "markdown",
   "id": "34815990",
   "metadata": {},
   "source": [
    "### Model 1.1 Prediction trials"
   ]
  },
  {
   "cell_type": "code",
   "execution_count": 14,
   "id": "548b91ba",
   "metadata": {},
   "outputs": [
    {
     "data": {
      "text/plain": [
       "{'Cracked': 0, 'Non-cracked': 1}"
      ]
     },
     "execution_count": 14,
     "metadata": {},
     "output_type": "execute_result"
    }
   ],
   "source": [
    "test_set.class_indices"
   ]
  },
  {
   "cell_type": "code",
   "execution_count": 15,
   "id": "9948095b",
   "metadata": {},
   "outputs": [
    {
     "name": "stdout",
     "output_type": "stream",
     "text": [
      "1/1 [==============================] - 0s 80ms/step\n"
     ]
    }
   ],
   "source": [
    "import numpy as np\n",
    "from keras.preprocessing import image\n",
    "test_img = tf.keras.utils.load_img('D:/DS/SDNET/Walls/pred/Cracked.jpg',\n",
    "                         target_size = (64,64))\n",
    "test_img = tf.keras.preprocessing.image.img_to_array(test_img)\n",
    "test_img = np.expand_dims(test_img, axis = 0)\n",
    "result = model.predict(test_img)"
   ]
  },
  {
   "cell_type": "code",
   "execution_count": 16,
   "id": "21324eb0",
   "metadata": {},
   "outputs": [
    {
     "data": {
      "text/plain": [
       "array([[1.]], dtype=float32)"
      ]
     },
     "execution_count": 16,
     "metadata": {},
     "output_type": "execute_result"
    }
   ],
   "source": [
    "result"
   ]
  },
  {
   "cell_type": "code",
   "execution_count": 17,
   "id": "463147de",
   "metadata": {},
   "outputs": [
    {
     "name": "stdout",
     "output_type": "stream",
     "text": [
      "[[1.]]\n"
     ]
    }
   ],
   "source": [
    "print(result)"
   ]
  },
  {
   "cell_type": "code",
   "execution_count": 18,
   "id": "a210d297",
   "metadata": {},
   "outputs": [
    {
     "name": "stdout",
     "output_type": "stream",
     "text": [
      "1/1 [==============================] - 0s 21ms/step\n",
      "[[1.]]\n"
     ]
    }
   ],
   "source": [
    "test_img = tf.keras.utils.load_img('D:/DS/SDNET/Walls/pred/Non-Cracked.jpg',\n",
    "                         target_size = (64,64))\n",
    "test_img = tf.keras.preprocessing.image.img_to_array(test_img)\n",
    "test_img = np.expand_dims(test_img, axis = 0)\n",
    "result = model.predict(test_img)\n",
    "print(result)"
   ]
  },
  {
   "cell_type": "code",
   "execution_count": 19,
   "id": "4cc1685a",
   "metadata": {},
   "outputs": [
    {
     "name": "stdout",
     "output_type": "stream",
     "text": [
      "114/114 [==============================] - 3s 23ms/step - loss: 0.5174 - accuracy: 0.7877\n"
     ]
    },
    {
     "data": {
      "text/plain": [
       "[0.5173769593238831, 0.7877033352851868]"
      ]
     },
     "execution_count": 19,
     "metadata": {},
     "output_type": "execute_result"
    }
   ],
   "source": [
    "model.evaluate(test_set)"
   ]
  },
  {
   "cell_type": "markdown",
   "id": "4d60c22f",
   "metadata": {},
   "source": [
    "### Build 1.2 "
   ]
  },
  {
   "cell_type": "code",
   "execution_count": null,
   "id": "cc7b1acb",
   "metadata": {},
   "outputs": [],
   "source": []
  }
 ],
 "metadata": {
  "kernelspec": {
   "display_name": "NN",
   "language": "python",
   "name": "nn"
  },
  "language_info": {
   "codemirror_mode": {
    "name": "ipython",
    "version": 3
   },
   "file_extension": ".py",
   "mimetype": "text/x-python",
   "name": "python",
   "nbconvert_exporter": "python",
   "pygments_lexer": "ipython3",
   "version": "3.10.2"
  }
 },
 "nbformat": 4,
 "nbformat_minor": 5
}
